{
 "cells": [
  {
   "cell_type": "markdown",
   "id": "3724790c",
   "metadata": {},
   "source": [
    "## Convert .xlsx to .csv"
   ]
  },
  {
   "cell_type": "code",
   "execution_count": 3,
   "id": "2b6694c9",
   "metadata": {},
   "outputs": [],
   "source": [
    "import pandas as pd\n",
    "\n",
    "xlsx_file = pd.read_excel(\"../public/public_emdat_custom_request_Natural.xlsx\")\n",
    "xlsx_file.to_csv(\"../public/public_emdat_custom_request_Natural.cvs\")"
   ]
  },
  {
   "cell_type": "code",
   "execution_count": 12,
   "id": "1cc06235",
   "metadata": {},
   "outputs": [
    {
     "data": {
      "text/plain": [
       "array(['Drought', 'Flood', 'Extreme temperature', 'Volcanic activity',\n",
       "       'Storm', 'Wildfire', 'Earthquake', 'Epidemic',\n",
       "       'Mass movement (wet)', 'Infestation', 'Mass movement (dry)',\n",
       "       'Impact', 'Animal incident', 'Glacial lake outburst flood'],\n",
       "      dtype=object)"
      ]
     },
     "execution_count": 12,
     "metadata": {},
     "output_type": "execute_result"
    }
   ],
   "source": [
    "xlsx_file['Disaster Type'].unique()"
   ]
  }
 ],
 "metadata": {
  "kernelspec": {
   "display_name": "CR",
   "language": "python",
   "name": "python3"
  },
  "language_info": {
   "codemirror_mode": {
    "name": "ipython",
    "version": 3
   },
   "file_extension": ".py",
   "mimetype": "text/x-python",
   "name": "python",
   "nbconvert_exporter": "python",
   "pygments_lexer": "ipython3",
   "version": "3.11.0"
  }
 },
 "nbformat": 4,
 "nbformat_minor": 5
}
